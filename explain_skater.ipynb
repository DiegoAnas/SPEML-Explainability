{
 "cells": [
  {
   "cell_type": "code",
   "execution_count": 1,
   "metadata": {},
   "outputs": [],
   "source": [
    "import numpy as np\n",
    "import matplotlib.pyplot as plt\n",
    "import pandas as pd\n",
    "from sklearn.model_selection import KFold\n",
    "from sklearn.ensemble import GradientBoostingClassifier\n",
    "from sklearn.metrics import classification_report, confusion_matrix\n",
    "from sklearn.neighbors import KNeighborsClassifier\n",
    "\n",
    "from skater.core.explanations import Interpretation\n",
    "from skater.model import InMemoryModel"
   ]
  },
  {
   "cell_type": "code",
   "execution_count": 2,
   "metadata": {},
   "outputs": [],
   "source": [
    "featureNames = [\"seq\", \"mcg\", \"gvh\", \"alm\", \"mit\", \"erl\", \"pox\", \"vac\", \"nuc\", \"loc\"]\n",
    "yeastData = pd.read_csv(\"yeast.data\", sep=\" \", names=featureNames)\n",
    "kFold = KFold(n_splits=2, shuffle=False, random_state=39)\n",
    "yeastAttrib = yeastData.iloc[:,1:9].values  # fix column indexes\n",
    "yeastTarget = yeastData[\"loc\"].values\n",
    "\n",
    "titles = (\"GradientBoost\",\n",
    "            \"KNN\") # add more\n",
    "models = (GradientBoostingClassifier(n_estimators=100, max_features=None, max_depth=2, random_state=5),\n",
    "            KNeighborsClassifier())"
   ]
  },
  {
   "cell_type": "code",
   "execution_count": 10,
   "metadata": {},
   "outputs": [
    {
     "name": "stdout",
     "output_type": "stream",
     "text": [
      "------------Fold 1\n",
      "             precision    recall  f1-score   support\n",
      "\n",
      "        CYT       0.45      0.61      0.52       198\n",
      "        ERL       0.00      0.00      0.00         5\n",
      "        EXC       0.43      0.32      0.36        19\n",
      "        ME1       0.52      0.65      0.58        17\n",
      "        ME2       0.48      0.39      0.43        33\n",
      "        ME3       0.72      0.89      0.80        74\n",
      "        MIT       0.82      0.42      0.55       180\n",
      "        NUC       0.50      0.53      0.52       197\n",
      "        POX       0.55      0.43      0.48        14\n",
      "        VAC       0.00      0.00      0.00         5\n",
      "\n",
      "avg / total       0.58      0.54      0.54       742\n",
      "\n",
      "Confusion Matrix: \n",
      " [[121   0   0   0   1   6   7  62   0   1]\n",
      " [  0   0   2   0   2   0   0   0   0   1]\n",
      " [  5   0   6   3   3   0   0   1   0   1]\n",
      " [  0   0   2  11   2   1   0   0   1   0]\n",
      " [  2   0   2   5  13   3   1   3   2   2]\n",
      " [  0   0   0   0   0  66   0   8   0   0]\n",
      " [ 61   0   2   2   2   8  75  27   2   1]\n",
      " [ 74   0   0   0   4   7   7 105   0   0]\n",
      " [  5   0   0   0   0   0   2   1   6   0]\n",
      " [  3   0   0   0   0   1   0   1   0   0]]\n",
      "[8/8] features ████████████████████ Time elapsed: 0 seconds"
     ]
    },
    {
     "name": "stderr",
     "output_type": "stream",
     "text": [
      "/home/diego/.local/lib/python3.6/site-packages/sklearn/metrics/classification.py:1135: UndefinedMetricWarning: Precision and F-score are ill-defined and being set to 0.0 in labels with no predicted samples.\n",
      "  'precision', 'predicted', average, warn_for)\n"
     ]
    },
    {
     "name": "stdout",
     "output_type": "stream",
     "text": [
      "             precision    recall  f1-score   support\n",
      "\n",
      "        CYT       0.42      0.69      0.52       198\n",
      "        ERL       0.00      0.00      0.00         5\n",
      "        EXC       0.40      0.42      0.41        19\n",
      "        ME1       0.42      0.76      0.54        17\n",
      "        ME2       0.56      0.27      0.37        33\n",
      "        ME3       0.70      0.77      0.73        74\n",
      "        MIT       0.76      0.39      0.51       180\n",
      "        NUC       0.53      0.45      0.49       197\n",
      "        POX       0.70      0.50      0.58        14\n",
      "        VAC       0.00      0.00      0.00         5\n",
      "\n",
      "avg / total       0.57      0.52      0.52       742\n",
      "\n",
      "Confusion Matrix: \n",
      " [[136   0   0   1   0   5   8  47   1   0]\n",
      " [  0   0   2   1   2   0   0   0   0   0]\n",
      " [  5   0   8   6   0   0   0   0   0   0]\n",
      " [  0   0   2  13   0   1   1   0   0   0]\n",
      " [  6   0   3   8   9   3   2   2   0   0]\n",
      " [  8   0   0   0   1  57   2   6   0   0]\n",
      " [ 74   0   5   1   2   8  70  18   2   0]\n",
      " [ 91   0   0   1   2   7   8  88   0   0]\n",
      " [  3   0   0   0   0   0   1   2   7   1]\n",
      " [  2   0   0   0   0   1   0   2   0   0]]\n",
      "[8/8] features ████████████████████ Time elapsed: 0 seconds------------Fold 2\n",
      "             precision    recall  f1-score   support\n",
      "\n",
      "        CYT       0.56      0.49      0.52       265\n",
      "        EXC       0.38      0.31      0.34        16\n",
      "        ME1       0.66      0.78      0.71        27\n",
      "        ME2       0.38      0.33      0.35        18\n",
      "        ME3       0.78      0.80      0.79        89\n",
      "        MIT       0.28      0.55      0.37        64\n",
      "        NUC       0.58      0.57      0.58       232\n",
      "        POX       0.75      0.50      0.60         6\n",
      "        VAC       0.00      0.00      0.00        25\n",
      "\n",
      "avg / total       0.55      0.54      0.54       742\n",
      "\n",
      "Confusion Matrix: \n",
      " [[130   0   0   2   0  57  76   0   0]\n",
      " [  0   5   4   1   0   6   0   0   0]\n",
      " [  0   4  21   2   0   0   0   0   0]\n",
      " [  3   2   3   6   2   1   1   0   0]\n",
      " [  4   0   1   2  71   4   7   0   0]\n",
      " [ 15   0   0   0   3  35  10   1   0]\n",
      " [ 70   0   1   1  10  18 132   0   0]\n",
      " [  0   1   0   0   0   2   0   3   0]\n",
      " [ 11   1   2   2   5   3   1   0   0]]\n",
      "[8/8] features ████████████████████ Time elapsed: 0 seconds             precision    recall  f1-score   support\n",
      "\n",
      "        CYT       0.48      0.52      0.50       265\n",
      "        EXC       0.43      0.56      0.49        16\n",
      "        ME1       0.83      0.70      0.76        27\n",
      "        ME2       0.43      0.33      0.38        18\n",
      "        ME3       0.74      0.64      0.69        89\n",
      "        MIT       0.30      0.56      0.39        64\n",
      "        NUC       0.57      0.47      0.52       232\n",
      "        POX       0.75      0.50      0.60         6\n",
      "        VAC       0.00      0.00      0.00        25\n",
      "\n",
      "avg / total       0.52      0.51      0.51       742\n",
      "\n",
      "Confusion Matrix: \n",
      " [[138   1   0   2   2  55  67   0   0]\n",
      " [  0   9   2   0   0   5   0   0   0]\n",
      " [  1   5  19   1   0   1   0   0   0]\n",
      " [  4   3   1   6   2   1   1   0   0]\n",
      " [ 18   0   0   2  57   3   9   0   0]\n",
      " [ 18   0   0   1   3  36   5   1   0]\n",
      " [ 97   0   0   0   8  17 110   0   0]\n",
      " [  0   1   0   1   0   1   0   3   0]\n",
      " [ 14   2   1   1   5   2   0   0   0]]\n",
      "[8/8] features ████████████████████ Time elapsed: 0 seconds"
     ]
    },
    {
     "data": {
      "image/png": "[encoded data removed]",
      "text/plain": [
       "<Figure size 432x288 with 1 Axes>"
      ]
     },
     "metadata": {
      "needs_background": "light"
     },
     "output_type": "display_data"
    },
    {
     "data": {
      "image/png": "[encoded data removed]",
      "text/plain": [
       "<Figure size 432x288 with 1 Axes>"
      ]
     },
     "metadata": {
      "needs_background": "light"
     },
     "output_type": "display_data"
    },
    {
     "data": {
      "image/png": "[encoded data removed]",
      "text/plain": [
       "<Figure size 432x288 with 1 Axes>"
      ]
     },
     "metadata": {
      "needs_background": "light"
     },
     "output_type": "display_data"
    },
    {
     "data": {
      "image/png": "[encoded data removed]",
      "text/plain": [
       "<Figure size 432x288 with 1 Axes>"
      ]
     },
     "metadata": {
      "needs_background": "light"
     },
     "output_type": "display_data"
    }
   ],
   "source": [
    "fold = 1\n",
    "for train_index, test_index in kFold.split(yeastAttrib):\n",
    "    print(f\"------------\"\n",
    "          f\"Fold {fold}\")\n",
    "    fold += 1\n",
    "    for model, title in zip(models, titles):\n",
    "        train_data, train_target = yeastAttrib[train_index], yeastTarget[train_index]\n",
    "        test_data, test_target = yeastAttrib[test_index], yeastTarget[test_index]\n",
    "        clf = model.fit(train_data, train_target)\n",
    "        \n",
    "        prediction = clf.predict(test_data)\n",
    "        print(classification_report(test_target, prediction))\n",
    "        print(f\"Confusion Matrix: \\n {confusion_matrix(test_target, prediction)}\")\n",
    "        \n",
    "        interpreter = Interpretation(test_data, feature_names=featureNames[1:9])\n",
    "        model_no_proba = InMemoryModel(model.predict, examples=test_data, unique_values=model.classes_)\n",
    "        ax = interpreter.feature_importance.plot_feature_importance(model_no_proba, ascending=False)\n",
    "        plt.title(f\"Feature importance for {title}\")"
   ]
  },
  {
   "cell_type": "code",
   "execution_count": null,
   "metadata": {},
   "outputs": [],
   "source": [
    "# Add PDPs\n",
    "# Add ICE"
   ]
  },
  {
   "cell_type": "code",
   "execution_count": null,
   "metadata": {},
   "outputs": [],
   "source": [
    "# Add surrogate (¿our own or Skater's?)"
   ]
  }
 ],
 "metadata": {
  "kernelspec": {
   "display_name": "Python 3",
   "language": "python",
   "name": "python3"
  },
  "language_info": {
   "codemirror_mode": {
    "name": "ipython",
    "version": 3
   },
   "file_extension": ".py",
   "mimetype": "text/x-python",
   "name": "python",
   "nbconvert_exporter": "python",
   "pygments_lexer": "ipython3",
   "version": "3.6.8"
  }
 },
 "nbformat": 4,
 "nbformat_minor": 2
}
